{
  "nbformat": 4,
  "nbformat_minor": 0,
  "metadata": {
    "colab": {
      "provenance": [],
      "authorship_tag": "ABX9TyPYqE0CHinisEurdaqya5Nc",
      "include_colab_link": true
    },
    "kernelspec": {
      "name": "python3",
      "display_name": "Python 3"
    },
    "language_info": {
      "name": "python"
    },
    "widgets": {
      "application/vnd.jupyter.widget-state+json": {
        "62af3ae79c0c4d32abddc7a5777c893e": {
          "model_module": "@jupyter-widgets/output",
          "model_name": "OutputModel",
          "model_module_version": "1.0.0",
          "state": {
            "_dom_classes": [],
            "_model_module": "@jupyter-widgets/output",
            "_model_module_version": "1.0.0",
            "_model_name": "OutputModel",
            "_view_count": null,
            "_view_module": "@jupyter-widgets/output",
            "_view_module_version": "1.0.0",
            "_view_name": "OutputView",
            "layout": "IPY_MODEL_a79fed02ece7472e9dafdb0c9ca4d270",
            "msg_id": "",
            "outputs": [
              {
                "output_type": "display_data",
                "data": {
                  "text/plain": "\u001b[35m 100%\u001b[0m \u001b[38;2;114;156;31m━━━━━━━━━━━━━━━━━━━━━━━━━━━━━━━━━━━━━━━━━━━━━━━━━━━━━━━━━━━━━━━━━━━━━━━\u001b[0m \u001b[32m16/16 \u001b[0m [ \u001b[33m0:00:24\u001b[0m < \u001b[36m0:00:00\u001b[0m , \u001b[31m1 it/s\u001b[0m ]\n",
                  "text/html": "<pre style=\"white-space:pre;overflow-x:auto;line-height:normal;font-family:Menlo,'DejaVu Sans Mono',consolas,'Courier New',monospace\"><span style=\"color: #800080; text-decoration-color: #800080\"> 100%</span> <span style=\"color: #729c1f; text-decoration-color: #729c1f\">━━━━━━━━━━━━━━━━━━━━━━━━━━━━━━━━━━━━━━━━━━━━━━━━━━━━━━━━━━━━━━━━━━━━━━━</span> <span style=\"color: #008000; text-decoration-color: #008000\">16/16 </span> [ <span style=\"color: #808000; text-decoration-color: #808000\">0:00:24</span> &lt; <span style=\"color: #008080; text-decoration-color: #008080\">0:00:00</span> , <span style=\"color: #800000; text-decoration-color: #800000\">1 it/s</span> ]\n</pre>\n"
                },
                "metadata": {}
              }
            ]
          }
        },
        "a79fed02ece7472e9dafdb0c9ca4d270": {
          "model_module": "@jupyter-widgets/base",
          "model_name": "LayoutModel",
          "model_module_version": "1.2.0",
          "state": {
            "_model_module": "@jupyter-widgets/base",
            "_model_module_version": "1.2.0",
            "_model_name": "LayoutModel",
            "_view_count": null,
            "_view_module": "@jupyter-widgets/base",
            "_view_module_version": "1.2.0",
            "_view_name": "LayoutView",
            "align_content": null,
            "align_items": null,
            "align_self": null,
            "border": null,
            "bottom": null,
            "display": null,
            "flex": null,
            "flex_flow": null,
            "grid_area": null,
            "grid_auto_columns": null,
            "grid_auto_flow": null,
            "grid_auto_rows": null,
            "grid_column": null,
            "grid_gap": null,
            "grid_row": null,
            "grid_template_areas": null,
            "grid_template_columns": null,
            "grid_template_rows": null,
            "height": null,
            "justify_content": null,
            "justify_items": null,
            "left": null,
            "margin": null,
            "max_height": null,
            "max_width": null,
            "min_height": null,
            "min_width": null,
            "object_fit": null,
            "object_position": null,
            "order": null,
            "overflow": null,
            "overflow_x": null,
            "overflow_y": null,
            "padding": null,
            "right": null,
            "top": null,
            "visibility": null,
            "width": null
          }
        },
        "481e7e0d3f6741e09c977abc39946c76": {
          "model_module": "@jupyter-widgets/output",
          "model_name": "OutputModel",
          "model_module_version": "1.0.0",
          "state": {
            "_dom_classes": [],
            "_model_module": "@jupyter-widgets/output",
            "_model_module_version": "1.0.0",
            "_model_name": "OutputModel",
            "_view_count": null,
            "_view_module": "@jupyter-widgets/output",
            "_view_module_version": "1.0.0",
            "_view_name": "OutputView",
            "layout": "IPY_MODEL_cd25e9fd8c6b4631b40c84040a3675b3",
            "msg_id": "",
            "outputs": [
              {
                "output_type": "display_data",
                "data": {
                  "text/plain": "\u001b[35m 100%\u001b[0m \u001b[38;2;114;156;31m━━━━━━━━━━━━━━━━━━━━━━━━━━━━━━━━━━━━━━━━━━━━━━━━━━━━━━━━━━━━━━━━━━━━━━━\u001b[0m \u001b[32m32/32 \u001b[0m [ \u001b[33m0:02:25\u001b[0m < \u001b[36m0:00:00\u001b[0m , \u001b[31m0 it/s\u001b[0m ]\n",
                  "text/html": "<pre style=\"white-space:pre;overflow-x:auto;line-height:normal;font-family:Menlo,'DejaVu Sans Mono',consolas,'Courier New',monospace\"><span style=\"color: #800080; text-decoration-color: #800080\"> 100%</span> <span style=\"color: #729c1f; text-decoration-color: #729c1f\">━━━━━━━━━━━━━━━━━━━━━━━━━━━━━━━━━━━━━━━━━━━━━━━━━━━━━━━━━━━━━━━━━━━━━━━</span> <span style=\"color: #008000; text-decoration-color: #008000\">32/32 </span> [ <span style=\"color: #808000; text-decoration-color: #808000\">0:02:25</span> &lt; <span style=\"color: #008080; text-decoration-color: #008080\">0:00:00</span> , <span style=\"color: #800000; text-decoration-color: #800000\">0 it/s</span> ]\n</pre>\n"
                },
                "metadata": {}
              }
            ]
          }
        },
        "cd25e9fd8c6b4631b40c84040a3675b3": {
          "model_module": "@jupyter-widgets/base",
          "model_name": "LayoutModel",
          "model_module_version": "1.2.0",
          "state": {
            "_model_module": "@jupyter-widgets/base",
            "_model_module_version": "1.2.0",
            "_model_name": "LayoutModel",
            "_view_count": null,
            "_view_module": "@jupyter-widgets/base",
            "_view_module_version": "1.2.0",
            "_view_name": "LayoutView",
            "align_content": null,
            "align_items": null,
            "align_self": null,
            "border": null,
            "bottom": null,
            "display": null,
            "flex": null,
            "flex_flow": null,
            "grid_area": null,
            "grid_auto_columns": null,
            "grid_auto_flow": null,
            "grid_auto_rows": null,
            "grid_column": null,
            "grid_gap": null,
            "grid_row": null,
            "grid_template_areas": null,
            "grid_template_columns": null,
            "grid_template_rows": null,
            "height": null,
            "justify_content": null,
            "justify_items": null,
            "left": null,
            "margin": null,
            "max_height": null,
            "max_width": null,
            "min_height": null,
            "min_width": null,
            "object_fit": null,
            "object_position": null,
            "order": null,
            "overflow": null,
            "overflow_x": null,
            "overflow_y": null,
            "padding": null,
            "right": null,
            "top": null,
            "visibility": null,
            "width": null
          }
        }
      }
    }
  },
  "cells": [
    {
      "cell_type": "markdown",
      "metadata": {
        "id": "view-in-github",
        "colab_type": "text"
      },
      "source": [
        "<a href=\"https://colab.research.google.com/github/smaali1rim/GenAI-with-Google-learn-guide/blob/main/Fine_tuning_a_custom_model.ipynb\" target=\"_parent\"><img src=\"https://colab.research.google.com/assets/colab-badge.svg\" alt=\"Open In Colab\"/></a>"
      ]
    },
    {
      "cell_type": "markdown",
      "source": [
        "# Fine tuning a custom model\n",
        "\n",
        "This project leverages the Gemini API to fine-tune a custom, task-specific model for text classification. The objective is to classify newsgroup posts into their respective categories (e.g., the newsgroup name). The fine-tuning process is designed to address a variety of tasks, ranging from classic NLP challenges such as entity extraction and summarization to more creative applications like stylized text generation. This notebook focuses on fine-tuning the model to accurately identify the category of a given text based on its content."
      ],
      "metadata": {
        "id": "m3G3_cGuKhkY"
      }
    },
    {
      "cell_type": "markdown",
      "source": [
        "##Setup\n"
      ],
      "metadata": {
        "id": "tBIvx5c_LmeU"
      }
    },
    {
      "cell_type": "code",
      "source": [
        "!pip install -U -q \"google-generativeai>=0.8.3\""
      ],
      "metadata": {
        "id": "r8HfA9pWKh2A"
      },
      "execution_count": 1,
      "outputs": []
    },
    {
      "cell_type": "code",
      "source": [
        "import google.generativeai as genai"
      ],
      "metadata": {
        "id": "h4dc8VN6Kmi5"
      },
      "execution_count": 2,
      "outputs": []
    },
    {
      "cell_type": "code",
      "source": [
        "from google.colab import userdata\n",
        "\n",
        "GOOGLE_API_KEY = userdata.get('GOOGLE_API_KEY')\n",
        "genai.configure(api_key=GOOGLE_API_KEY)"
      ],
      "metadata": {
        "id": "nPz94UkbLvUn"
      },
      "execution_count": 3,
      "outputs": []
    },
    {
      "cell_type": "markdown",
      "source": [
        "###Explore available models"
      ],
      "metadata": {
        "id": "YfZd6-9rL8Ag"
      }
    },
    {
      "cell_type": "code",
      "source": [
        "for model in genai.list_models():\n",
        "    if \"createTunedModel\" in model.supported_generation_methods:\n",
        "        print(model.name)"
      ],
      "metadata": {
        "id": "xNQhHvkrLvvd"
      },
      "execution_count": null,
      "outputs": []
    },
    {
      "cell_type": "markdown",
      "source": [
        "## Download the dataset"
      ],
      "metadata": {
        "id": "zOVbeUSBMXgw"
      }
    },
    {
      "cell_type": "code",
      "source": [
        "from sklearn.datasets import fetch_20newsgroups\n",
        "\n",
        "newsgroups_train = fetch_20newsgroups(subset=\"train\")\n",
        "newsgroups_test = fetch_20newsgroups(subset=\"test\")\n",
        "\n",
        "# View list of class names for dataset\n",
        "newsgroups_train.target_names"
      ],
      "metadata": {
        "colab": {
          "base_uri": "https://localhost:8080/"
        },
        "id": "i18Lw41IMYAl",
        "outputId": "dffb1782-cca1-4184-f26a-7e9c6d0f37cb"
      },
      "execution_count": 4,
      "outputs": [
        {
          "output_type": "execute_result",
          "data": {
            "text/plain": [
              "['alt.atheism',\n",
              " 'comp.graphics',\n",
              " 'comp.os.ms-windows.misc',\n",
              " 'comp.sys.ibm.pc.hardware',\n",
              " 'comp.sys.mac.hardware',\n",
              " 'comp.windows.x',\n",
              " 'misc.forsale',\n",
              " 'rec.autos',\n",
              " 'rec.motorcycles',\n",
              " 'rec.sport.baseball',\n",
              " 'rec.sport.hockey',\n",
              " 'sci.crypt',\n",
              " 'sci.electronics',\n",
              " 'sci.med',\n",
              " 'sci.space',\n",
              " 'soc.religion.christian',\n",
              " 'talk.politics.guns',\n",
              " 'talk.politics.mideast',\n",
              " 'talk.politics.misc',\n",
              " 'talk.religion.misc']"
            ]
          },
          "metadata": {},
          "execution_count": 4
        }
      ]
    },
    {
      "cell_type": "code",
      "source": [
        "print(newsgroups_train.data[0])"
      ],
      "metadata": {
        "colab": {
          "base_uri": "https://localhost:8080/"
        },
        "id": "LTxZhDk7MYRo",
        "outputId": "cf31d7e7-8c62-4fe6-ec80-b427579f7759"
      },
      "execution_count": 5,
      "outputs": [
        {
          "output_type": "stream",
          "name": "stdout",
          "text": [
            "From: lerxst@wam.umd.edu (where's my thing)\n",
            "Subject: WHAT car is this!?\n",
            "Nntp-Posting-Host: rac3.wam.umd.edu\n",
            "Organization: University of Maryland, College Park\n",
            "Lines: 15\n",
            "\n",
            " I was wondering if anyone out there could enlighten me on this car I saw\n",
            "the other day. It was a 2-door sports car, looked to be from the late 60s/\n",
            "early 70s. It was called a Bricklin. The doors were really small. In addition,\n",
            "the front bumper was separate from the rest of the body. This is \n",
            "all I know. If anyone can tellme a model name, engine specs, years\n",
            "of production, where this car is made, history, or whatever info you\n",
            "have on this funky looking car, please e-mail.\n",
            "\n",
            "Thanks,\n",
            "- IL\n",
            "   ---- brought to you by your neighborhood Lerxst ----\n",
            "\n",
            "\n",
            "\n",
            "\n",
            "\n"
          ]
        }
      ]
    },
    {
      "cell_type": "markdown",
      "source": [
        "## Prepare the dataset"
      ],
      "metadata": {
        "id": "b5ioP1MfMvrx"
      }
    },
    {
      "cell_type": "code",
      "source": [
        "import email\n",
        "import re\n",
        "\n",
        "import pandas as pd\n",
        "\n",
        "\n",
        "def preprocess_newsgroup_row(data):\n",
        "    # Extract only the subject and body\n",
        "    msg = email.message_from_string(data)\n",
        "    text = f\"{msg['Subject']}\\n\\n{msg.get_payload()}\"\n",
        "    # Strip any remaining email addresses\n",
        "    text = re.sub(r\"[\\w\\.-]+@[\\w\\.-]+\", \"\", text)\n",
        "    # Truncate the text to fit within the input limits\n",
        "    text = text[:40000]\n",
        "\n",
        "    return text\n",
        "\n",
        "\n",
        "def preprocess_newsgroup_data(newsgroup_dataset):\n",
        "    # Put data points into dataframe\n",
        "    df = pd.DataFrame(\n",
        "        {\"Text\": newsgroup_dataset.data, \"Label\": newsgroup_dataset.target}\n",
        "    )\n",
        "    # Clean up the text\n",
        "    df[\"Text\"] = df[\"Text\"].apply(preprocess_newsgroup_row)\n",
        "    # Match label to target name index\n",
        "    df[\"Class Name\"] = df[\"Label\"].map(lambda l: newsgroup_dataset.target_names[l])\n",
        "\n",
        "    return df"
      ],
      "metadata": {
        "id": "uV_-hNAlMiYt"
      },
      "execution_count": 6,
      "outputs": []
    },
    {
      "cell_type": "code",
      "source": [
        "# Apply preprocessing to training and test datasets\n",
        "df_train = preprocess_newsgroup_data(newsgroups_train)\n",
        "df_test = preprocess_newsgroup_data(newsgroups_test)\n"
      ],
      "metadata": {
        "id": "-rsH-SFSM0_-"
      },
      "execution_count": 8,
      "outputs": []
    },
    {
      "cell_type": "code",
      "source": [
        "def sample_data(df, num_samples, classes_to_keep):\n",
        "    # Sample rows, selecting num_samples of each Label.\n",
        "    df = (\n",
        "        df.groupby(\"Label\")[df.columns]\n",
        "        .apply(lambda x: x.sample(num_samples))\n",
        "        .reset_index(drop=True)\n",
        "    )\n",
        "\n",
        "    df = df[df[\"Class Name\"].str.contains(classes_to_keep)]\n",
        "    df[\"Class Name\"] = df[\"Class Name\"].astype(\"category\")\n",
        "\n",
        "    return df\n",
        "\n",
        "\n",
        "TRAIN_NUM_SAMPLES = 50\n",
        "TEST_NUM_SAMPLES = 10\n",
        "# Keep rec.* and sci.*\n",
        "CLASSES_TO_KEEP = \"^rec|^sci\"\n",
        "\n",
        "df_train = sample_data(df_train, TRAIN_NUM_SAMPLES, CLASSES_TO_KEEP)\n",
        "df_test = sample_data(df_test, TEST_NUM_SAMPLES, CLASSES_TO_KEEP)"
      ],
      "metadata": {
        "id": "wT_uHtrfM3xZ"
      },
      "execution_count": 9,
      "outputs": []
    },
    {
      "cell_type": "markdown",
      "source": [
        "## Evaluate baseline performance"
      ],
      "metadata": {
        "id": "f-mNfyaLOQg3"
      }
    },
    {
      "cell_type": "code",
      "source": [
        "sample_idx = 0\n",
        "sample_row = preprocess_newsgroup_row(newsgroups_test.data[sample_idx])\n",
        "sample_label = newsgroups_test.target_names[newsgroups_test.target[sample_idx]]\n",
        "\n",
        "print(sample_row)\n",
        "print('---')\n",
        "print('Label:', sample_label)"
      ],
      "metadata": {
        "colab": {
          "base_uri": "https://localhost:8080/"
        },
        "id": "LYQireJ1OIAt",
        "outputId": "7187896b-b8f0-41bd-9be7-cc9215d2773c"
      },
      "execution_count": 10,
      "outputs": [
        {
          "output_type": "stream",
          "name": "stdout",
          "text": [
            "Need info on 88-89 Bonneville\n",
            "\n",
            "\n",
            " I am a little confused on all of the models of the 88-89 bonnevilles.\n",
            "I have heard of the LE SE LSE SSE SSEI. Could someone tell me the\n",
            "differences are far as features or performance. I am also curious to\n",
            "know what the book value is for prefereably the 89 model. And how much\n",
            "less than book value can you usually get them for. In other words how\n",
            "much are they in demand this time of year. I have heard that the mid-spring\n",
            "early summer is the best time to buy.\n",
            "\n",
            "\t\t\tNeil Gandler\n",
            "\n",
            "---\n",
            "Label: rec.autos\n"
          ]
        }
      ]
    },
    {
      "cell_type": "code",
      "source": [
        "# Ask the model directly in a zero-shot prompt.\n",
        "baseline_model = genai.GenerativeModel(\"gemini-1.5-flash-001\")\n",
        "prompt = \"From what newsgroup does the following message originate?\"\n",
        "baseline_response = baseline_model.generate_content([prompt, sample_row])\n",
        "print(baseline_response.text)"
      ],
      "metadata": {
        "colab": {
          "base_uri": "https://localhost:8080/",
          "height": 329
        },
        "id": "N4F-BcjgOYsv",
        "outputId": "b8d0a99d-4935-4df2-9c15-d8be5d086c33"
      },
      "execution_count": 12,
      "outputs": [
        {
          "output_type": "stream",
          "name": "stdout",
          "text": [
            "This message likely originates from a **Buick or classic car enthusiast newsgroup**. \n",
            "\n",
            "Here's why:\n",
            "\n",
            "* **Specific Model:** The message focuses on a specific car model, the 1988-1989 Buick Bonneville, indicating a community interested in that particular vehicle.\n",
            "* **Trim Levels:** The mention of specific trim levels like LE, SE, LSE, SSE, and SSEi points to a group with knowledge about Buick models and their variations.\n",
            "* **Book Value:**  The question about book value and negotiating prices further suggests a car-focused discussion.\n",
            "* **Seasonality:** The comment about the best time to buy aligns with car buying trends.\n",
            "\n",
            "**Possible newsgroups:**\n",
            "\n",
            "* **alt.autos.buick**\n",
            "* **rec.autos.cars**\n",
            "* **rec.autos.marketplace**\n",
            "* **alt.autos.buy-sell** \n",
            "\n",
            "These are just a few examples, and there might be other newsgroups specific to classic Buicks or the Bonneville model. \n",
            "\n"
          ]
        }
      ]
    },
    {
      "cell_type": "code",
      "source": [
        "from google.api_core import retry\n",
        "\n",
        "system_instruct = \"\"\"\n",
        "You are a classification service. You will be passed input that represents\n",
        "a newsgroup post and you must respond with the newsgroup from which the post\n",
        "originates.\n",
        "\"\"\"\n",
        "\n",
        "instructed_model = genai.GenerativeModel(\"gemini-1.5-flash-001\",\n",
        "                                         system_instruction=system_instruct)\n",
        "\n",
        "retry_policy = {\"retry\": retry.Retry(predicate=retry.if_transient_error)}\n",
        "\n",
        "def predict_label(post: str) -> str:\n",
        "    response = instructed_model.generate_content(post, request_options=retry_policy)\n",
        "    rc = response.candidates[0]\n",
        "\n",
        "    # Any errors, filters, recitation, etc we can mark as a general error\n",
        "    if rc.finish_reason.name != \"STOP\":\n",
        "        return \"(error)\"\n",
        "    else:\n",
        "        # Clean up the response.\n",
        "        return response.text.strip()\n",
        "\n",
        "\n",
        "prediction = predict_label(sample_row)\n",
        "\n",
        "print(prediction)\n",
        "print()\n",
        "print(\"Correct!\" if prediction == sample_label else \"Incorrect.\")"
      ],
      "metadata": {
        "colab": {
          "base_uri": "https://localhost:8080/",
          "height": 69
        },
        "id": "mZDc7QLFPrV-",
        "outputId": "df90d897-0b2d-45dc-f9d3-5fea45f4bd71"
      },
      "execution_count": 13,
      "outputs": [
        {
          "output_type": "stream",
          "name": "stdout",
          "text": [
            "rec.autos.misc\n",
            "\n",
            "Incorrect.\n"
          ]
        }
      ]
    },
    {
      "cell_type": "code",
      "source": [
        "from tqdm.rich import tqdm\n",
        "\n",
        "tqdm.pandas()\n",
        "\n",
        "\n",
        "# Further sample the test data to be mindful of the free-tier quota.\n",
        "df_baseline_eval = sample_data(df_test, 2, '.*')\n",
        "\n",
        "# Make predictions using the sampled data.\n",
        "df_baseline_eval['Prediction'] = df_baseline_eval['Text'].progress_apply(predict_label)\n",
        "\n",
        "# And calculate the accuracy.\n",
        "accuracy = (df_baseline_eval[\"Class Name\"] == df_baseline_eval[\"Prediction\"]).sum() / len(df_baseline_eval)\n",
        "print(f\"Accuracy: {accuracy:.2%}\")"
      ],
      "metadata": {
        "colab": {
          "base_uri": "https://localhost:8080/",
          "height": 86,
          "referenced_widgets": [
            "62af3ae79c0c4d32abddc7a5777c893e",
            "a79fed02ece7472e9dafdb0c9ca4d270"
          ]
        },
        "id": "ZoszTdmPXMJq",
        "outputId": "6e74496f-c81f-4db2-8748-d578769c6b68"
      },
      "execution_count": 14,
      "outputs": [
        {
          "output_type": "display_data",
          "data": {
            "text/plain": [
              "Output()"
            ],
            "application/vnd.jupyter.widget-view+json": {
              "version_major": 2,
              "version_minor": 0,
              "model_id": "62af3ae79c0c4d32abddc7a5777c893e"
            }
          },
          "metadata": {}
        },
        {
          "output_type": "stream",
          "name": "stderr",
          "text": [
            "/usr/local/lib/python3.10/dist-packages/tqdm/std.py:885: TqdmExperimentalWarning: rich is experimental/alpha\n",
            "  t = cls(total=total, **tqdm_kwargs)\n"
          ]
        },
        {
          "output_type": "display_data",
          "data": {
            "text/plain": [],
            "text/html": [
              "<pre style=\"white-space:pre;overflow-x:auto;line-height:normal;font-family:Menlo,'DejaVu Sans Mono',consolas,'Courier New',monospace\"></pre>\n"
            ]
          },
          "metadata": {}
        },
        {
          "output_type": "stream",
          "name": "stdout",
          "text": [
            "Accuracy: 6.25%\n"
          ]
        }
      ]
    },
    {
      "cell_type": "code",
      "source": [
        "df_baseline_eval"
      ],
      "metadata": {
        "colab": {
          "base_uri": "https://localhost:8080/",
          "height": 551
        },
        "id": "JbuexgO8XP6v",
        "outputId": "8fa6aa73-de2c-433f-e387-7f3cbbd03cbb"
      },
      "execution_count": 15,
      "outputs": [
        {
          "output_type": "execute_result",
          "data": {
            "text/plain": [
              "                                                 Text  Label  \\\n",
              "0   Lexus and Infiniti\\n\\nFirst off, the correct s...      7   \n",
              "1   Re: V4 V6 V8 V12 Vx?\\n\\n (eliot) writes:\\n\\n\\n...      7   \n",
              "2   Re: Its still cold, but...\\n\\nIn article <>  (...      8   \n",
              "3   Re: Contemplating Ottawa->San Francisco->Ottaw...      8   \n",
              "4   Re: Game Length (was Re: Braves Update!!\\n\\nIn...      9   \n",
              "5   Re: HBP? BB? BIG-CAT?\\n\\n (Greg Woods) writes:...      9   \n",
              "6   Re: Winnipeg vs. Vancouver\\n\\nIn article <>  (...     10   \n",
              "7   CBC: Canadian for ESPN.\\n\\nHooray, I hear on T...     10   \n",
              "8   Re: Once they get your keys....\\n\\nIn article ...     11   \n",
              "9   Re: Let's build software cryptophones for over...     11   \n",
              "10  Re: NTSC horiz & vert drive from black burst?\\...     12   \n",
              "11  Tunnel diodes on I-G SPICE\\n\\n\\nDoes anybody h...     12   \n",
              "12  Re: Localized fat reduction due to exercise (q...     13   \n",
              "13  Re: Persistent vs Chronic\\n\\nIn article <> doy...     13   \n",
              "14  Re: Gamma Ray Bursters How energetic could the...     14   \n",
              "15  Re: Vandalizing the sky.\\n\\n (Keith Mancus) wr...     14   \n",
              "\n",
              "            Class Name                   Prediction  \n",
              "0            rec.autos               rec.autos.misc  \n",
              "1            rec.autos        rec.autos.sports-cars  \n",
              "2      rec.motorcycles           talk.politics.misc  \n",
              "3      rec.motorcycles              rec.motorcycles  \n",
              "4   rec.sport.baseball          rec.sports.baseball  \n",
              "5   rec.sport.baseball          rec.sports.baseball  \n",
              "6     rec.sport.hockey          alt.hockey.nhl.jets  \n",
              "7     rec.sport.hockey            rec.sports.hockey  \n",
              "8            sci.crypt         alt.security.clipper  \n",
              "9            sci.crypt      comp.speech.compression  \n",
              "10     sci.electronics              comp.video.tech  \n",
              "11     sci.electronics               comp.cad.spice  \n",
              "12             sci.med  rec.fitness.weight-training  \n",
              "13             sci.med            sci.med.hepatitis  \n",
              "14           sci.space                    sci.astro  \n",
              "15           sci.space           alt.folklore.urban  "
            ],
            "text/html": [
              "\n",
              "  <div id=\"df-73a0872c-cf96-45b3-990b-3063948dc1a6\" class=\"colab-df-container\">\n",
              "    <div>\n",
              "<style scoped>\n",
              "    .dataframe tbody tr th:only-of-type {\n",
              "        vertical-align: middle;\n",
              "    }\n",
              "\n",
              "    .dataframe tbody tr th {\n",
              "        vertical-align: top;\n",
              "    }\n",
              "\n",
              "    .dataframe thead th {\n",
              "        text-align: right;\n",
              "    }\n",
              "</style>\n",
              "<table border=\"1\" class=\"dataframe\">\n",
              "  <thead>\n",
              "    <tr style=\"text-align: right;\">\n",
              "      <th></th>\n",
              "      <th>Text</th>\n",
              "      <th>Label</th>\n",
              "      <th>Class Name</th>\n",
              "      <th>Prediction</th>\n",
              "    </tr>\n",
              "  </thead>\n",
              "  <tbody>\n",
              "    <tr>\n",
              "      <th>0</th>\n",
              "      <td>Lexus and Infiniti\\n\\nFirst off, the correct s...</td>\n",
              "      <td>7</td>\n",
              "      <td>rec.autos</td>\n",
              "      <td>rec.autos.misc</td>\n",
              "    </tr>\n",
              "    <tr>\n",
              "      <th>1</th>\n",
              "      <td>Re: V4 V6 V8 V12 Vx?\\n\\n (eliot) writes:\\n\\n\\n...</td>\n",
              "      <td>7</td>\n",
              "      <td>rec.autos</td>\n",
              "      <td>rec.autos.sports-cars</td>\n",
              "    </tr>\n",
              "    <tr>\n",
              "      <th>2</th>\n",
              "      <td>Re: Its still cold, but...\\n\\nIn article &lt;&gt;  (...</td>\n",
              "      <td>8</td>\n",
              "      <td>rec.motorcycles</td>\n",
              "      <td>talk.politics.misc</td>\n",
              "    </tr>\n",
              "    <tr>\n",
              "      <th>3</th>\n",
              "      <td>Re: Contemplating Ottawa-&gt;San Francisco-&gt;Ottaw...</td>\n",
              "      <td>8</td>\n",
              "      <td>rec.motorcycles</td>\n",
              "      <td>rec.motorcycles</td>\n",
              "    </tr>\n",
              "    <tr>\n",
              "      <th>4</th>\n",
              "      <td>Re: Game Length (was Re: Braves Update!!\\n\\nIn...</td>\n",
              "      <td>9</td>\n",
              "      <td>rec.sport.baseball</td>\n",
              "      <td>rec.sports.baseball</td>\n",
              "    </tr>\n",
              "    <tr>\n",
              "      <th>5</th>\n",
              "      <td>Re: HBP? BB? BIG-CAT?\\n\\n (Greg Woods) writes:...</td>\n",
              "      <td>9</td>\n",
              "      <td>rec.sport.baseball</td>\n",
              "      <td>rec.sports.baseball</td>\n",
              "    </tr>\n",
              "    <tr>\n",
              "      <th>6</th>\n",
              "      <td>Re: Winnipeg vs. Vancouver\\n\\nIn article &lt;&gt;  (...</td>\n",
              "      <td>10</td>\n",
              "      <td>rec.sport.hockey</td>\n",
              "      <td>alt.hockey.nhl.jets</td>\n",
              "    </tr>\n",
              "    <tr>\n",
              "      <th>7</th>\n",
              "      <td>CBC: Canadian for ESPN.\\n\\nHooray, I hear on T...</td>\n",
              "      <td>10</td>\n",
              "      <td>rec.sport.hockey</td>\n",
              "      <td>rec.sports.hockey</td>\n",
              "    </tr>\n",
              "    <tr>\n",
              "      <th>8</th>\n",
              "      <td>Re: Once they get your keys....\\n\\nIn article ...</td>\n",
              "      <td>11</td>\n",
              "      <td>sci.crypt</td>\n",
              "      <td>alt.security.clipper</td>\n",
              "    </tr>\n",
              "    <tr>\n",
              "      <th>9</th>\n",
              "      <td>Re: Let's build software cryptophones for over...</td>\n",
              "      <td>11</td>\n",
              "      <td>sci.crypt</td>\n",
              "      <td>comp.speech.compression</td>\n",
              "    </tr>\n",
              "    <tr>\n",
              "      <th>10</th>\n",
              "      <td>Re: NTSC horiz &amp; vert drive from black burst?\\...</td>\n",
              "      <td>12</td>\n",
              "      <td>sci.electronics</td>\n",
              "      <td>comp.video.tech</td>\n",
              "    </tr>\n",
              "    <tr>\n",
              "      <th>11</th>\n",
              "      <td>Tunnel diodes on I-G SPICE\\n\\n\\nDoes anybody h...</td>\n",
              "      <td>12</td>\n",
              "      <td>sci.electronics</td>\n",
              "      <td>comp.cad.spice</td>\n",
              "    </tr>\n",
              "    <tr>\n",
              "      <th>12</th>\n",
              "      <td>Re: Localized fat reduction due to exercise (q...</td>\n",
              "      <td>13</td>\n",
              "      <td>sci.med</td>\n",
              "      <td>rec.fitness.weight-training</td>\n",
              "    </tr>\n",
              "    <tr>\n",
              "      <th>13</th>\n",
              "      <td>Re: Persistent vs Chronic\\n\\nIn article &lt;&gt; doy...</td>\n",
              "      <td>13</td>\n",
              "      <td>sci.med</td>\n",
              "      <td>sci.med.hepatitis</td>\n",
              "    </tr>\n",
              "    <tr>\n",
              "      <th>14</th>\n",
              "      <td>Re: Gamma Ray Bursters How energetic could the...</td>\n",
              "      <td>14</td>\n",
              "      <td>sci.space</td>\n",
              "      <td>sci.astro</td>\n",
              "    </tr>\n",
              "    <tr>\n",
              "      <th>15</th>\n",
              "      <td>Re: Vandalizing the sky.\\n\\n (Keith Mancus) wr...</td>\n",
              "      <td>14</td>\n",
              "      <td>sci.space</td>\n",
              "      <td>alt.folklore.urban</td>\n",
              "    </tr>\n",
              "  </tbody>\n",
              "</table>\n",
              "</div>\n",
              "    <div class=\"colab-df-buttons\">\n",
              "\n",
              "  <div class=\"colab-df-container\">\n",
              "    <button class=\"colab-df-convert\" onclick=\"convertToInteractive('df-73a0872c-cf96-45b3-990b-3063948dc1a6')\"\n",
              "            title=\"Convert this dataframe to an interactive table.\"\n",
              "            style=\"display:none;\">\n",
              "\n",
              "  <svg xmlns=\"http://www.w3.org/2000/svg\" height=\"24px\" viewBox=\"0 -960 960 960\">\n",
              "    <path d=\"M120-120v-720h720v720H120Zm60-500h600v-160H180v160Zm220 220h160v-160H400v160Zm0 220h160v-160H400v160ZM180-400h160v-160H180v160Zm440 0h160v-160H620v160ZM180-180h160v-160H180v160Zm440 0h160v-160H620v160Z\"/>\n",
              "  </svg>\n",
              "    </button>\n",
              "\n",
              "  <style>\n",
              "    .colab-df-container {\n",
              "      display:flex;\n",
              "      gap: 12px;\n",
              "    }\n",
              "\n",
              "    .colab-df-convert {\n",
              "      background-color: #E8F0FE;\n",
              "      border: none;\n",
              "      border-radius: 50%;\n",
              "      cursor: pointer;\n",
              "      display: none;\n",
              "      fill: #1967D2;\n",
              "      height: 32px;\n",
              "      padding: 0 0 0 0;\n",
              "      width: 32px;\n",
              "    }\n",
              "\n",
              "    .colab-df-convert:hover {\n",
              "      background-color: #E2EBFA;\n",
              "      box-shadow: 0px 1px 2px rgba(60, 64, 67, 0.3), 0px 1px 3px 1px rgba(60, 64, 67, 0.15);\n",
              "      fill: #174EA6;\n",
              "    }\n",
              "\n",
              "    .colab-df-buttons div {\n",
              "      margin-bottom: 4px;\n",
              "    }\n",
              "\n",
              "    [theme=dark] .colab-df-convert {\n",
              "      background-color: #3B4455;\n",
              "      fill: #D2E3FC;\n",
              "    }\n",
              "\n",
              "    [theme=dark] .colab-df-convert:hover {\n",
              "      background-color: #434B5C;\n",
              "      box-shadow: 0px 1px 3px 1px rgba(0, 0, 0, 0.15);\n",
              "      filter: drop-shadow(0px 1px 2px rgba(0, 0, 0, 0.3));\n",
              "      fill: #FFFFFF;\n",
              "    }\n",
              "  </style>\n",
              "\n",
              "    <script>\n",
              "      const buttonEl =\n",
              "        document.querySelector('#df-73a0872c-cf96-45b3-990b-3063948dc1a6 button.colab-df-convert');\n",
              "      buttonEl.style.display =\n",
              "        google.colab.kernel.accessAllowed ? 'block' : 'none';\n",
              "\n",
              "      async function convertToInteractive(key) {\n",
              "        const element = document.querySelector('#df-73a0872c-cf96-45b3-990b-3063948dc1a6');\n",
              "        const dataTable =\n",
              "          await google.colab.kernel.invokeFunction('convertToInteractive',\n",
              "                                                    [key], {});\n",
              "        if (!dataTable) return;\n",
              "\n",
              "        const docLinkHtml = 'Like what you see? Visit the ' +\n",
              "          '<a target=\"_blank\" href=https://colab.research.google.com/notebooks/data_table.ipynb>data table notebook</a>'\n",
              "          + ' to learn more about interactive tables.';\n",
              "        element.innerHTML = '';\n",
              "        dataTable['output_type'] = 'display_data';\n",
              "        await google.colab.output.renderOutput(dataTable, element);\n",
              "        const docLink = document.createElement('div');\n",
              "        docLink.innerHTML = docLinkHtml;\n",
              "        element.appendChild(docLink);\n",
              "      }\n",
              "    </script>\n",
              "  </div>\n",
              "\n",
              "\n",
              "<div id=\"df-52c01546-df2d-4bea-b222-167c80ad7808\">\n",
              "  <button class=\"colab-df-quickchart\" onclick=\"quickchart('df-52c01546-df2d-4bea-b222-167c80ad7808')\"\n",
              "            title=\"Suggest charts\"\n",
              "            style=\"display:none;\">\n",
              "\n",
              "<svg xmlns=\"http://www.w3.org/2000/svg\" height=\"24px\"viewBox=\"0 0 24 24\"\n",
              "     width=\"24px\">\n",
              "    <g>\n",
              "        <path d=\"M19 3H5c-1.1 0-2 .9-2 2v14c0 1.1.9 2 2 2h14c1.1 0 2-.9 2-2V5c0-1.1-.9-2-2-2zM9 17H7v-7h2v7zm4 0h-2V7h2v10zm4 0h-2v-4h2v4z\"/>\n",
              "    </g>\n",
              "</svg>\n",
              "  </button>\n",
              "\n",
              "<style>\n",
              "  .colab-df-quickchart {\n",
              "      --bg-color: #E8F0FE;\n",
              "      --fill-color: #1967D2;\n",
              "      --hover-bg-color: #E2EBFA;\n",
              "      --hover-fill-color: #174EA6;\n",
              "      --disabled-fill-color: #AAA;\n",
              "      --disabled-bg-color: #DDD;\n",
              "  }\n",
              "\n",
              "  [theme=dark] .colab-df-quickchart {\n",
              "      --bg-color: #3B4455;\n",
              "      --fill-color: #D2E3FC;\n",
              "      --hover-bg-color: #434B5C;\n",
              "      --hover-fill-color: #FFFFFF;\n",
              "      --disabled-bg-color: #3B4455;\n",
              "      --disabled-fill-color: #666;\n",
              "  }\n",
              "\n",
              "  .colab-df-quickchart {\n",
              "    background-color: var(--bg-color);\n",
              "    border: none;\n",
              "    border-radius: 50%;\n",
              "    cursor: pointer;\n",
              "    display: none;\n",
              "    fill: var(--fill-color);\n",
              "    height: 32px;\n",
              "    padding: 0;\n",
              "    width: 32px;\n",
              "  }\n",
              "\n",
              "  .colab-df-quickchart:hover {\n",
              "    background-color: var(--hover-bg-color);\n",
              "    box-shadow: 0 1px 2px rgba(60, 64, 67, 0.3), 0 1px 3px 1px rgba(60, 64, 67, 0.15);\n",
              "    fill: var(--button-hover-fill-color);\n",
              "  }\n",
              "\n",
              "  .colab-df-quickchart-complete:disabled,\n",
              "  .colab-df-quickchart-complete:disabled:hover {\n",
              "    background-color: var(--disabled-bg-color);\n",
              "    fill: var(--disabled-fill-color);\n",
              "    box-shadow: none;\n",
              "  }\n",
              "\n",
              "  .colab-df-spinner {\n",
              "    border: 2px solid var(--fill-color);\n",
              "    border-color: transparent;\n",
              "    border-bottom-color: var(--fill-color);\n",
              "    animation:\n",
              "      spin 1s steps(1) infinite;\n",
              "  }\n",
              "\n",
              "  @keyframes spin {\n",
              "    0% {\n",
              "      border-color: transparent;\n",
              "      border-bottom-color: var(--fill-color);\n",
              "      border-left-color: var(--fill-color);\n",
              "    }\n",
              "    20% {\n",
              "      border-color: transparent;\n",
              "      border-left-color: var(--fill-color);\n",
              "      border-top-color: var(--fill-color);\n",
              "    }\n",
              "    30% {\n",
              "      border-color: transparent;\n",
              "      border-left-color: var(--fill-color);\n",
              "      border-top-color: var(--fill-color);\n",
              "      border-right-color: var(--fill-color);\n",
              "    }\n",
              "    40% {\n",
              "      border-color: transparent;\n",
              "      border-right-color: var(--fill-color);\n",
              "      border-top-color: var(--fill-color);\n",
              "    }\n",
              "    60% {\n",
              "      border-color: transparent;\n",
              "      border-right-color: var(--fill-color);\n",
              "    }\n",
              "    80% {\n",
              "      border-color: transparent;\n",
              "      border-right-color: var(--fill-color);\n",
              "      border-bottom-color: var(--fill-color);\n",
              "    }\n",
              "    90% {\n",
              "      border-color: transparent;\n",
              "      border-bottom-color: var(--fill-color);\n",
              "    }\n",
              "  }\n",
              "</style>\n",
              "\n",
              "  <script>\n",
              "    async function quickchart(key) {\n",
              "      const quickchartButtonEl =\n",
              "        document.querySelector('#' + key + ' button');\n",
              "      quickchartButtonEl.disabled = true;  // To prevent multiple clicks.\n",
              "      quickchartButtonEl.classList.add('colab-df-spinner');\n",
              "      try {\n",
              "        const charts = await google.colab.kernel.invokeFunction(\n",
              "            'suggestCharts', [key], {});\n",
              "      } catch (error) {\n",
              "        console.error('Error during call to suggestCharts:', error);\n",
              "      }\n",
              "      quickchartButtonEl.classList.remove('colab-df-spinner');\n",
              "      quickchartButtonEl.classList.add('colab-df-quickchart-complete');\n",
              "    }\n",
              "    (() => {\n",
              "      let quickchartButtonEl =\n",
              "        document.querySelector('#df-52c01546-df2d-4bea-b222-167c80ad7808 button');\n",
              "      quickchartButtonEl.style.display =\n",
              "        google.colab.kernel.accessAllowed ? 'block' : 'none';\n",
              "    })();\n",
              "  </script>\n",
              "</div>\n",
              "\n",
              "  <div id=\"id_ced7d884-649b-4fff-9708-3646f8124ecb\">\n",
              "    <style>\n",
              "      .colab-df-generate {\n",
              "        background-color: #E8F0FE;\n",
              "        border: none;\n",
              "        border-radius: 50%;\n",
              "        cursor: pointer;\n",
              "        display: none;\n",
              "        fill: #1967D2;\n",
              "        height: 32px;\n",
              "        padding: 0 0 0 0;\n",
              "        width: 32px;\n",
              "      }\n",
              "\n",
              "      .colab-df-generate:hover {\n",
              "        background-color: #E2EBFA;\n",
              "        box-shadow: 0px 1px 2px rgba(60, 64, 67, 0.3), 0px 1px 3px 1px rgba(60, 64, 67, 0.15);\n",
              "        fill: #174EA6;\n",
              "      }\n",
              "\n",
              "      [theme=dark] .colab-df-generate {\n",
              "        background-color: #3B4455;\n",
              "        fill: #D2E3FC;\n",
              "      }\n",
              "\n",
              "      [theme=dark] .colab-df-generate:hover {\n",
              "        background-color: #434B5C;\n",
              "        box-shadow: 0px 1px 3px 1px rgba(0, 0, 0, 0.15);\n",
              "        filter: drop-shadow(0px 1px 2px rgba(0, 0, 0, 0.3));\n",
              "        fill: #FFFFFF;\n",
              "      }\n",
              "    </style>\n",
              "    <button class=\"colab-df-generate\" onclick=\"generateWithVariable('df_baseline_eval')\"\n",
              "            title=\"Generate code using this dataframe.\"\n",
              "            style=\"display:none;\">\n",
              "\n",
              "  <svg xmlns=\"http://www.w3.org/2000/svg\" height=\"24px\"viewBox=\"0 0 24 24\"\n",
              "       width=\"24px\">\n",
              "    <path d=\"M7,19H8.4L18.45,9,17,7.55,7,17.6ZM5,21V16.75L18.45,3.32a2,2,0,0,1,2.83,0l1.4,1.43a1.91,1.91,0,0,1,.58,1.4,1.91,1.91,0,0,1-.58,1.4L9.25,21ZM18.45,9,17,7.55Zm-12,3A5.31,5.31,0,0,0,4.9,8.1,5.31,5.31,0,0,0,1,6.5,5.31,5.31,0,0,0,4.9,4.9,5.31,5.31,0,0,0,6.5,1,5.31,5.31,0,0,0,8.1,4.9,5.31,5.31,0,0,0,12,6.5,5.46,5.46,0,0,0,6.5,12Z\"/>\n",
              "  </svg>\n",
              "    </button>\n",
              "    <script>\n",
              "      (() => {\n",
              "      const buttonEl =\n",
              "        document.querySelector('#id_ced7d884-649b-4fff-9708-3646f8124ecb button.colab-df-generate');\n",
              "      buttonEl.style.display =\n",
              "        google.colab.kernel.accessAllowed ? 'block' : 'none';\n",
              "\n",
              "      buttonEl.onclick = () => {\n",
              "        google.colab.notebook.generateWithVariable('df_baseline_eval');\n",
              "      }\n",
              "      })();\n",
              "    </script>\n",
              "  </div>\n",
              "\n",
              "    </div>\n",
              "  </div>\n"
            ],
            "application/vnd.google.colaboratory.intrinsic+json": {
              "type": "dataframe",
              "variable_name": "df_baseline_eval",
              "summary": "{\n  \"name\": \"df_baseline_eval\",\n  \"rows\": 16,\n  \"fields\": [\n    {\n      \"column\": \"Text\",\n      \"properties\": {\n        \"dtype\": \"string\",\n        \"num_unique_values\": 16,\n        \"samples\": [\n          \"Lexus and Infiniti\\n\\nFirst off, the correct spelling of Nissan's luxury automobile division\\nis \\\"Infiniti\\\" not \\\"Infinity.\\\"  I would also like to clear up the question\\nof what kind of engines power Lexus and Infiniti automobiles, since a\\nperson had remarked in earlier posts that most Lexus and Infiniti models\\nhad V6 engines, while at the same time saying that several of each\\nmanufacturer used V8 engines.\\n\\nLexus:\\n  LS400- V8\\n  GS300- V6\\n  ES300- V6\\n  SC400- V8\\n  SC300- V6\\n\\nInfiniti:\\n  Q45- V8\\n  J30- V6\\n  G20- inline 4 (I must admit that I cannot remeber for sure here)\\n\\nI hope this helps.\\n\\n-BSB\\n\",\n          \"Re: V4 V6 V8 V12 Vx?\\n\\n (eliot) writes:\\n\\n\\n>the subarus all use 180 degree vees in their engines..  :-)\\n\\n\\n>eliot\\n\\n\\tAre 180 degree V-6 \\\"Flat-Six\\\" engines???\\n-- \\nChintan Amin <The University of Illinois UrbanaChampaign> mail: \\n*******SIG UNDER CONSTRUCTION HARD HAT AREA********\\n\",\n          \"Re: HBP? BB? BIG-CAT?\\n\\n (Greg Woods) writes:\\n>In article <> dtate+@pitt.edu (David M. Tate) writes:\\n>>Of course, this is *not* the same as claiming (as some do) that Galarraga's\\n>>inability to defer gratification isn't hurting his team because he \\\"isn't\\n>>paid to walk\\\" or \\\"is an RBI guy\\\" or whatever.\\n>Alright, that's enough. I've suffered with all kinds of insults (as\\n>typical for the net), but give me a break. Galarraga is currently\\n>batting over .400 and you guys are complaining that he isn't drawing\\n>enough walks.  What would he have to do to please you guys, bat 1.000?\\n>You can hardly claim that he is \\\"hurting his team\\\".\\n\\nIt would help if his OBP were higher than his batting average. Yes, the\\nApril 12 USA Today lists Le Grand Chapeau as having a .422 batting average\\nand a .413 OBP. That's on 19-for-45 hitting with 0 (zip, nil, nada) walks.\\nThe reason a lot of us are down on Galarraga is that he's has a long history\\nof showing that this is nowhere near his real level of ability (except for\\ndrawing walks). If he hit .400 for, say, even 250 AB's I'd be convinced that\\nthere was a real change in his ability. If he did it with an OBP<AVG, I'd\\nnot only be amazed but I'd make a bet that that would be a unique feat in\\nthe history of the game. But what do 45 AB's prove? Look at some of the\\nother fluke players at this point in the season:\\n  Player    AVG AB\\n  Blauser  .367 49\\n  Grace    .391 48\\n  Milligan .400 35\\n  Conine   .375 40\\n  Lansing  .400 50\\n  Slaught  .406 32\\nAre any of these guys really that good? Well, in a word, no. How significant\\nis Galarraga's average? At the 45 AB level, a hit is worth about .020. If\\nhe'd had one of those hits called an error and one taken away by a good\\ndefensive play, he'd be in the .380 range. If he goes 0-for-4 in his next\\ngame he's all the way down to .388. In one game. Come back in June. Let's\\ntalk then.\\n\\n>If it happens that the pitchers start throwing him fewer good pitches\\n>and he starts making lots of outs (as someone speculated might happen),\\n>*THEN* I would agree with you that he isn't taking enough pitches. My comment\\n>that \\\"he isn't paid to walk\\\" doesn't mean that he should have a license\\n>to swing at bad pitches and make outs; it's more along the lines of: he's\\n>batting .400 and leading the league in RBI's so what bloody difference\\n>does it make if he isn't drawing  a lot of walks? Sheesh.\\n\\nIt's history, Greg. Andres' history is that he doesn't walk much because he\\nswings at bad pitches, so his average isn't very good. 45 AB's doesn't mean\\nan awful lot compared to a history of a couple of thousand, especially when\\nthere's ample evidence (0 BB in 1992) that his basic hitting approach hasn't\\nchanged. Yeah, he might suddenly have turned into a .400 hitter who never\\nwalks, but don't bet the rent money on it.\\n\\n Mike Jones | AIX High-End Development | \\n\\nFrom an historical basis, Middle East conflicts do not last a long time.\\n\\t- VP Dan Quayle on Nightline, 2 October 1990\\n\"\n        ],\n        \"semantic_type\": \"\",\n        \"description\": \"\"\n      }\n    },\n    {\n      \"column\": \"Label\",\n      \"properties\": {\n        \"dtype\": \"number\",\n        \"std\": 2,\n        \"min\": 7,\n        \"max\": 14,\n        \"num_unique_values\": 8,\n        \"samples\": [\n          8,\n          12,\n          7\n        ],\n        \"semantic_type\": \"\",\n        \"description\": \"\"\n      }\n    },\n    {\n      \"column\": \"Class Name\",\n      \"properties\": {\n        \"dtype\": \"category\",\n        \"num_unique_values\": 8,\n        \"samples\": [\n          \"rec.motorcycles\",\n          \"sci.electronics\",\n          \"rec.autos\"\n        ],\n        \"semantic_type\": \"\",\n        \"description\": \"\"\n      }\n    },\n    {\n      \"column\": \"Prediction\",\n      \"properties\": {\n        \"dtype\": \"string\",\n        \"num_unique_values\": 15,\n        \"samples\": [\n          \"comp.video.tech\",\n          \"rec.fitness.weight-training\",\n          \"rec.autos.misc\"\n        ],\n        \"semantic_type\": \"\",\n        \"description\": \"\"\n      }\n    }\n  ]\n}"
            }
          },
          "metadata": {},
          "execution_count": 15
        }
      ]
    },
    {
      "cell_type": "markdown",
      "source": [
        "##Tune a custom model"
      ],
      "metadata": {
        "id": "AS7UJflNXhSW"
      }
    },
    {
      "cell_type": "code",
      "source": [
        "from collections.abc import Iterable\n",
        "import random\n",
        "\n",
        "\n",
        "# Append a random number to the model ID so you can re-run with a higher chance\n",
        "# of creating a unique model ID.\n",
        "model_id = f\"newsgroup-classifier-{random.randint(10000, 99999)}\"\n",
        "\n",
        "# Upload the training data and queue the tuning job.\n",
        "tuning_op = genai.create_tuned_model(\n",
        "    \"models/gemini-1.5-flash-001-tuning\",\n",
        "    training_data=df_train,\n",
        "    input_key=\"Text\",  # the column to use as input\n",
        "    output_key=\"Class Name\",  # the column to use as output\n",
        "    id=model_id,\n",
        "    display_name=\"Newsgroup classification model\",\n",
        "    batch_size=16,\n",
        "    epoch_count=2,\n",
        ")\n",
        "\n",
        "print(model_id)"
      ],
      "metadata": {
        "colab": {
          "base_uri": "https://localhost:8080/",
          "height": 34
        },
        "id": "5TpqyR5_XbDu",
        "outputId": "ff33557b-ed91-47f9-cdd8-307efc070b21"
      },
      "execution_count": 16,
      "outputs": [
        {
          "output_type": "stream",
          "name": "stdout",
          "text": [
            "newsgroup-classifier-34936\n"
          ]
        }
      ]
    },
    {
      "cell_type": "code",
      "source": [
        "import time\n",
        "import seaborn as sns\n",
        "\n",
        "\n",
        "while (tuned_model := genai.get_tuned_model(f\"tunedModels/{model_id}\")).state.name != 'ACTIVE':\n",
        "\n",
        "    print(tuned_model.state)\n",
        "    time.sleep(60)\n",
        "\n",
        "print(f\"Done! The model is {tuned_model.state.name}\")\n",
        "\n",
        "# Plot the loss curve.\n",
        "snapshots = pd.DataFrame(tuned_model.tuning_task.snapshots)\n",
        "sns.lineplot(data=snapshots, x=\"step\", y=\"mean_loss\")"
      ],
      "metadata": {
        "colab": {
          "base_uri": "https://localhost:8080/",
          "height": 536
        },
        "id": "eTzH1gsbYqzt",
        "outputId": "ccd7b161-312d-429c-ea2d-291df0812341"
      },
      "execution_count": 18,
      "outputs": [
        {
          "output_type": "stream",
          "name": "stdout",
          "text": [
            "State.CREATING\n",
            "State.CREATING\n",
            "State.CREATING\n",
            "Done! The model is ACTIVE\n"
          ]
        },
        {
          "output_type": "execute_result",
          "data": {
            "text/plain": [
              "<Axes: xlabel='step', ylabel='mean_loss'>"
            ]
          },
          "metadata": {},
          "execution_count": 18
        },
        {
          "output_type": "display_data",
          "data": {
            "text/plain": [
              "<Figure size 640x480 with 1 Axes>"
            ],
            "image/png": "[encoded data removed]"
          },
          "metadata": {}
        }
      ]
    },
    {
      "cell_type": "markdown",
      "source": [
        "##Use the new model"
      ],
      "metadata": {
        "id": "FYTV7b3FYXSo"
      }
    },
    {
      "cell_type": "code",
      "source": [
        "model = genai.GenerativeModel(f\"tunedModels/{model_id}\")\n",
        "\n",
        "new_text = \"\"\"\n",
        "First-timer looking to get out of here.\n",
        "\n",
        "Hi, I'm writing about my interest in travelling to the outer limits!\n",
        "\n",
        "What kind of craft can I buy? What is easiest to access from this 3rd rock?\n",
        "\n",
        "Let me know how to do that please.\n",
        "\"\"\"\n",
        "\n",
        "response = model.generate_content(new_text)\n",
        "print(response.text)"
      ],
      "metadata": {
        "colab": {
          "base_uri": "https://localhost:8080/",
          "height": 34
        },
        "id": "AypMxeUuYC-W",
        "outputId": "6833eff4-49c2-4044-d016-9a1679d05116"
      },
      "execution_count": 19,
      "outputs": [
        {
          "output_type": "stream",
          "name": "stdout",
          "text": [
            "sci.space\n"
          ]
        }
      ]
    },
    {
      "cell_type": "code",
      "source": [
        "def classify_text(text: str) -> str:\n",
        "    \"\"\"Classify the provided text into a known newsgroup.\"\"\"\n",
        "    response = model.generate_content(text, request_options=retry_policy)\n",
        "    rc = response.candidates[0]\n",
        "\n",
        "    # Any errors, filters, recitation, etc we can mark as a general error\n",
        "    if rc.finish_reason.name != \"STOP\":\n",
        "        return \"(error)\"\n",
        "    else:\n",
        "        return rc.content.parts[0].text\n",
        "\n",
        "\n",
        "# The sampling here is just to minimise the quota usage.\n",
        "df_model_eval = sample_data(df_test, 4, '.*')\n",
        "\n",
        "\n",
        "df_model_eval[\"Prediction\"] = df_model_eval[\"Text\"].progress_apply(classify_text)\n",
        "\n",
        "accuracy = (df_model_eval[\"Class Name\"] == df_model_eval[\"Prediction\"]).sum() / len(df_model_eval)\n"
      ],
      "metadata": {
        "colab": {
          "base_uri": "https://localhost:8080/",
          "height": 86,
          "referenced_widgets": [
            "481e7e0d3f6741e09c977abc39946c76",
            "cd25e9fd8c6b4631b40c84040a3675b3"
          ]
        },
        "id": "tNH4fHEcYhsK",
        "outputId": "3ffd172c-49c6-4556-a930-11f9a024995f"
      },
      "execution_count": 20,
      "outputs": [
        {
          "output_type": "display_data",
          "data": {
            "text/plain": [
              "Output()"
            ],
            "application/vnd.jupyter.widget-view+json": {
              "version_major": 2,
              "version_minor": 0,
              "model_id": "481e7e0d3f6741e09c977abc39946c76"
            }
          },
          "metadata": {}
        },
        {
          "output_type": "stream",
          "name": "stderr",
          "text": [
            "/usr/local/lib/python3.10/dist-packages/tqdm/std.py:885: TqdmExperimentalWarning: rich is experimental/alpha\n",
            "  t = cls(total=total, **tqdm_kwargs)\n"
          ]
        },
        {
          "output_type": "display_data",
          "data": {
            "text/plain": [],
            "text/html": [
              "<pre style=\"white-space:pre;overflow-x:auto;line-height:normal;font-family:Menlo,'DejaVu Sans Mono',consolas,'Courier New',monospace\"></pre>\n"
            ]
          },
          "metadata": {}
        },
        {
          "output_type": "stream",
          "name": "stdout",
          "text": [
            "Accuracy: 93.75%\n"
          ]
        }
      ]
    }
  ]
}